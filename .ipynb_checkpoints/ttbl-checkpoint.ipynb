{
 "cells": [
  {
   "cell_type": "markdown",
   "id": "5aba9283-a8c6-41dd-9585-2fcebcd79133",
   "metadata": {},
   "source": [
    "# 준비\n",
    "\n",
    "## 필요한 파일 목록\n",
    "- costmin.csv\n",
    "- 가좌대면전공교양_모르는건물제거.csv\n",
    "> ttbl.ipynb와 같은 디렉토리(폴더)에 위치시켜주세요\n",
    "\n",
    "## 변수명들\n",
    "- df0, 가좌대면전공교양_모르는건물제거.csv를 불러옵니다\n",
    "- df, df0에서 특정 전공에 맞는 과목만 필터링합니다.\n",
    "- ttbl, 시간표입니다. 기본적으로는 빈 시간은 -1 채운 시간은 df 내의 과목의 인덱스로 채워둡니다. beautifulttbl(df, ttbl) 사용시 과목명으로 변경됩니다.\n",
    "- costmin, 강의동 간 도보이동시간을 행렬로 표현해뒀습니다. i, j좌표는 출발지점이 i고 도착지점이 j일때 도보이동시간입니다. 인덱스와 열 이름 각각은 강의동 번호입니다.\n",
    "\n",
    "## 함수들\n",
    "> 아래 필요 함수들 셀의 주석을 참조하세요\n",
    "\n",
    "## 사용법\n",
    "1. 첫줄이 준비인 셀들을 위에서 아래 순서로 전부 한번씩 실행해주세요.\n",
    "2. 마지막 준비 셀은 시간표(ttbl)를 세팅합니다. 또한 실행할때마다 ttbl이 초기화 되므로 초기화 용도로도 씁니다.\n",
    "\n",
    "## 주의사항\n",
    "- 기숙사 6동에서 월화수목에 하는 영어수업은 배제했습니다.\n",
    "- 경상국립대학교 캠퍼스맵에 표기되지 않은 일부 건물 (농대 신 건물 등)은 배제하였습니다.\n",
    "- 가좌캠퍼스의 대면수업만을 대상으로 하였습니다."
   ]
  },
  {
   "cell_type": "code",
   "execution_count": 1,
   "id": "4a9a7d56-ec17-4c99-bb5f-38bdfd9bac78",
   "metadata": {},
   "outputs": [],
   "source": [
    "# 준비\n",
    "import pandas as pd\n",
    "import numpy as np\n",
    "import re"
   ]
  },
  {
   "cell_type": "code",
   "execution_count": 2,
   "id": "38d826c7-6ba8-40bd-983a-f03dcc07d96c",
   "metadata": {},
   "outputs": [
    {
     "name": "stderr",
     "output_type": "stream",
     "text": [
      "<>:26: SyntaxWarning: invalid escape sequence '\\['\n",
      "<>:26: SyntaxWarning: invalid escape sequence '\\['\n",
      "<>:26: SyntaxWarning: invalid escape sequence '\\-'\n",
      "<>:26: SyntaxWarning: invalid escape sequence '\\['\n",
      "<>:26: SyntaxWarning: invalid escape sequence '\\['\n",
      "<>:26: SyntaxWarning: invalid escape sequence '\\-'\n",
      "/tmp/ipykernel_31283/1940388088.py:26: SyntaxWarning: invalid escape sequence '\\['\n",
      "  return {'요일':re.search('(^[월화수목금토일])', string).group(1), '교시':re.search('^[월화수목금토일](.*?)\\[', string).group(1), '동':re.search('\\[0*(\\d+)\\-', string).group(1), '호':re.search('\\-(.+)', string).group(1)}\n",
      "/tmp/ipykernel_31283/1940388088.py:26: SyntaxWarning: invalid escape sequence '\\['\n",
      "  return {'요일':re.search('(^[월화수목금토일])', string).group(1), '교시':re.search('^[월화수목금토일](.*?)\\[', string).group(1), '동':re.search('\\[0*(\\d+)\\-', string).group(1), '호':re.search('\\-(.+)', string).group(1)}\n",
      "/tmp/ipykernel_31283/1940388088.py:26: SyntaxWarning: invalid escape sequence '\\-'\n",
      "  return {'요일':re.search('(^[월화수목금토일])', string).group(1), '교시':re.search('^[월화수목금토일](.*?)\\[', string).group(1), '동':re.search('\\[0*(\\d+)\\-', string).group(1), '호':re.search('\\-(.+)', string).group(1)}\n"
     ]
    }
   ],
   "source": [
    "# 준비\n",
    "# 자료 불러오기\n",
    "costmin = pd.read_csv('costmin.csv', index_col=0)\n",
    "df0 = pd.read_csv('가좌대면전공교양_모르는건물제거.csv')\n",
    "\n",
    "# costmin.csv와 가좌대면전공교양_모르는건물제거.csv 필요\n",
    "\n",
    "# 준비\n",
    "# 필요 함수들\n",
    "# 강의들의 목록:df, 시간표:ttbl 으로 변수명을 줬음.\n",
    "\n",
    "# df에서 원하는 과목 검색하기\n",
    "def search(df: pd.DataFrame, subj: str):\n",
    "    return df[df['교과목명'] == subj]\n",
    "\n",
    "# 정규표현식을 통해 df의 name 열에서 문자열을 추출하여 newname이란 열에 저장\n",
    "def extract(df: pd.DataFrame, name: str, newname: str, regex: str):\n",
    "    df[newname]=df[name].apply(lambda x:re.search(regex,str(x)).group(1) if re.search(regex,str(x)) else '')\n",
    "\n",
    "# major를 문자열 형태로 줘서 학부(과)열이 major와 일치하거나, 학부(과)가 공란인 경우만 반환\n",
    "def fixmajor(df: pd.DataFrame, major: str):\n",
    "    return df[(df['학부(과)']==major) | (df['학부(과)'].isna())].reset_index(drop = True)\n",
    "\n",
    "# 강의정보 열의 '금1,2[352-301]' 같은 문자열에서 요일, 교시, 동, 호를 딕셔너리로 반환\n",
    "def sortout(string: str):\n",
    "    return {'요일':re.search('(^[월화수목금토일])', string).group(1), '교시':re.search('^[월화수목금토일](.*?)\\[', string).group(1), '동':re.search('\\[0*(\\d+)\\-', string).group(1), '호':re.search('\\-(.+)', string).group(1)}\n",
    "\n",
    "#시간표에 과목들 목록을 출력함\n",
    "def makelist(ttbl: pd.DataFrame):\n",
    "    return ttbl[ttbl != -1].stack().unique().astype(int)\n",
    "\n",
    "# 강의정보 문자열로 [[교시],'요일']을 반환\n",
    "def whattime(info: str):\n",
    "    return [np.array(sortout(info)['교시'].split(',')).astype(int), sortout(info)['요일']]\n",
    "\n",
    "# 강의정보 문자열을 주고 시간표를 주면 해당하는 시간표 영역을 반환\n",
    "def timecheck(ttbl: pd.DataFrame, info: str):\n",
    "    return ttbl.loc[np.array(sortout(info)['교시'].split(',')).astype(int), sortout(info)['요일']]\n",
    "\n",
    "# 강의 번호와 df와 ttbl을 주면 ttbl에 강의번호를 적절히 기입함\n",
    "def insert(df: pd.DataFrame, ttbl: pd.DataFrame, index: int):\n",
    "    ttbl.loc[np.array(sortout(df.loc[index, '강의정보1'])['교시'].split(',')).astype(int), sortout(df.loc[index, '강의정보1'])['요일']] = index\n",
    "    if not pd.isnull(df.loc[index, '강의정보2']):\n",
    "        ttbl.loc[np.array(sortout(df.loc[index, '강의정보2'])['교시'].split(',')).astype(int), sortout(df.loc[index, '강의정보2'])['요일']] = index\n",
    "\n",
    "# index를 주면 [강의번호1의 값] 혹은 (만약 강의번호 2가 존재한다면) [강의번호1의 값, 강의번호2의 값]을 반환\n",
    "def getinfo(df: pd.DataFrame, index: int):\n",
    "    result = [df.loc[index, '강의정보1']]\n",
    "    if not pd.isnull(df.loc[index, '강의정보2']):\n",
    "        result.append(df.loc[index, '강의정보2'])\n",
    "    return result\n",
    "\n",
    "# 시간표 중복 필터링\n",
    "def filter_by_time(df: pd.DataFrame, ttbl: pd.DataFrame, index: int):\n",
    "    if (timecheck(ttbl, df.loc[index, '강의정보1']) != -1).any():\n",
    "        return False\n",
    "    if not pd.isnull(df.loc[index, '강의정보2']):\n",
    "        return (timecheck(ttbl, df.loc[index, '강의정보2']) == -1).all()\n",
    "    return True\n",
    "\n",
    "# 도보 이동시간 10분 이상 필터링\n",
    "def filter_by_costmin(df: pd.DataFrame, ttbl: pd.DataFrame, costmin: pd.DataFrame, index: int):\n",
    "    for i in makelist(ttbl):\n",
    "        for j in getinfo(df, i):\n",
    "            for k in getinfo(df, index):\n",
    "                # 아랫줄 끝단의 9를 n으로 변경시 n+1 이상인 경우 필터링으로 배제\n",
    "                if sortout(j)['요일'] == sortout(k)['요일'] and str(int(sortout(j)['교시'].split(',')[-1])+1) in sortout(k)['교시'].split(',') and costmin.loc[sortout(j)['동'], sortout(k)['동']] > 9:\n",
    "                    return False\n",
    "    return True\n",
    "\n",
    "# 캠퍼스맵에 없는 건물 list\n",
    "def dontknowbuildinglist(df: pd.DataFrame, costmin: pd.DataFrame):\n",
    "    res = []\n",
    "    for i in df.index:\n",
    "        for j in getinfo(df, i):\n",
    "            if not sortout(j)['동'] in costmin.index:\n",
    "                res.append(i)\n",
    "    return res\n",
    "\n",
    "# 현재 시간표에서 가능한 목록 리스트 뽑아내기\n",
    "def caninsert(df: pd.DataFrame, ttbl: pd.DataFrame, costmin: pd.DataFrame):\n",
    "    return [i for i in df.index if filter_by_time(df, ttbl, i) and filter_by_costmin(df, ttbl, costmin, i)]\n",
    "\n",
    "# 시간표 꾸미기\n",
    "def beautifulttbl(df: pd.DataFrame, ttbl: pd.DataFrame, sizefix = True):\n",
    "    beauty = ttbl.map(lambda x: '' if x == -1 else df.loc[x, '교과목명'])\n",
    "    # return beauty.style.background_gradient(cmap='rainbow') # 색깔 넣기 시도했으나 문자열이라 색깔이 지정되지 않음\n",
    "    if sizefix:\n",
    "        return beauty.style.set_properties(width='70px', height='30px')\n",
    "    else:\n",
    "        return beauty\n",
    "\n",
    "\n",
    "# 시간표 겹치는지 10분 이내인지 체크하고 넣기\n",
    "def checkandinsert(df: pd.DataFrame, ttbl: pd.DataFrame, costmin: pd.DataFrame, idx: int):\n",
    "    if filter_by_time(df, ttbl, idx) and filter_by_costmin(df, ttbl, costmin, idx): # 시간표가 겹치거나 이동시간이 10분 이상인지 검사\n",
    "        insert(df,ttbl,idx)\n",
    "\n",
    "# 연강 이동소요시간 구하기\n",
    "def totalcostmin(df: pd.DataFrame, ttbl: pd.DataFrame, costmin: pd.DataFrame):\n",
    "    totalcostmin = 0\n",
    "    for weekday in '월 화 수 목 금 토 일'.split(' '):\n",
    "        for n in ttbl.index:\n",
    "            if ttbl.loc[n, weekday] != -1 and ttbl.loc[n+1, weekday] != -1 and ttbl.loc[n, weekday] != ttbl.loc[n+1, weekday]:\n",
    "                if sortout(df.loc[ttbl.loc[n, weekday],'강의정보1'])['요일'] == weekday:\n",
    "                    totalcostmin += costmin.loc[df.loc[ttbl.loc[n, weekday],'강의정보1'], ttbl.loc[n+1, weekday]]\n",
    "                else:\n",
    "                    totalcostmin += costmin.loc[df.loc[ttbl.loc[n, weekday],'강의정보2'], ttbl.loc[n+1, weekday]]\n",
    "    return totalcostmin\n",
    "\n",
    "# ttbl 초기화\n",
    "def reset_ttbl(ttbl: pd.DataFrame):\n",
    "    ttbl.iloc[:, :] = -1\n",
    "\n",
    "# n단계 순회하며 가능한 경우 추가하여 n+1단계 집합 만들기 n+1단계가 [](비어있을 경우)일 경우 종결. caninsert에 제약 추가할 방법 고민하기.\n",
    "'''\n",
    "제약 고민\n",
    "제약의 두가지 종류: ttbl에 의해 생기는 제약(10분 거리, 겹침 등), ttbl과 무관한 제약(특정 요일이나 특정 시간대 비워두기)\n",
    "전자의 제약은 ttbl을 인자로 받아서 처리해야 하고(이런 류의 함수명을 filter_by_어쩌고로 통일하겠음) 후자의 제약은 df0에서 df를 불러올때 미리 적용하는 방향으로 가는게 좋아보임(fixmajor가 수학물리학부만 남기는 과정과 유사)\n",
    "'''\n",
    "\n",
    "def possiblettbl(df: pd.DataFrame, ttbl: pd.DataFrame, costmin: pd.DataFrame):\n",
    "    res = [[set(ttbl[ttbl != -1].stack().unique().astype(int))]] # 0단계 시간표, 과목 목록이 추가되지 않음(=0개 추가됨).\n",
    "\n",
    "    tttbl = pd.DataFrame(np.full((num,7), -1))\n",
    "    tttbl.columns = '월 화 수 목 금 토 일'.split(' ')\n",
    "    tttbl.index = range(num+1)[1:]\n",
    "    tttbl = tttbl.astype(int) # temporary time table\n",
    "\n",
    "    while True:\n",
    "        reset_ttbl(tttbl)\n",
    "        nextlevel = []\n",
    "        for i in res[-1]: # 마지막 레벨인 시간표들 불러오기\n",
    "            for j in i:\n",
    "                insert(df, tttbl, j) # 시간표를 ttbl형식으로 만들기\n",
    "            for j in caninsert(df,tttbl,costmin): # 추가 가능한 목록 불러오기\n",
    "                t = i.copy()\n",
    "                t.add(j) # 추가해서 다음단계의 시간표 만들기\n",
    "                nextlevel.append(t) # 시간표 저장하기\n",
    "        if nextlevel:\n",
    "            res.append(nextlevel)\n",
    "        else:\n",
    "            break\n",
    "    return res"
   ]
  },
  {
   "cell_type": "code",
   "execution_count": 3,
   "id": "bedec4a1-bb77-4f5b-805c-119e1041d6d9",
   "metadata": {
    "scrolled": true
   },
   "outputs": [],
   "source": [
    "# 준비\n",
    "# 전공 선택\n",
    "df = fixmajor(df0, '수학물리학부')"
   ]
  },
  {
   "cell_type": "code",
   "execution_count": 4,
   "id": "4f6ee7ec-278b-4315-91fd-b8f977372440",
   "metadata": {},
   "outputs": [],
   "source": [
    "# 준비\n",
    "# 시간표 만들기\n",
    "\n",
    "# 비어있는 시간은 -1을 입력했음\n",
    "\n",
    "num = 15 # num교시까지\n",
    "ttbl = pd.DataFrame(np.full((num,7), -1))\n",
    "ttbl.columns = '월 화 수 목 금 토 일'.split(' ')\n",
    "ttbl.index = range(num+1)[1:]\n",
    "ttbl = ttbl.astype(int)"
   ]
  },
  {
   "cell_type": "markdown",
   "id": "d811928b-8127-4267-ad94-938991f4338d",
   "metadata": {},
   "source": [
    "> 여기부터는 자료들을 확인해보실 수 있습니다. (실행시 자료 나타남)"
   ]
  },
  {
   "cell_type": "code",
   "execution_count": null,
   "id": "81e16f0d-401c-411e-bb29-7ab16fb65d2b",
   "metadata": {},
   "outputs": [],
   "source": [
    "df0 # 가좌캠퍼스에서 대면수업이고 캠퍼스맵에 존재하는 건물에서 진행되는 수업들 목록"
   ]
  },
  {
   "cell_type": "code",
   "execution_count": null,
   "id": "aa7c2ec7-2cbb-43eb-948b-98821f0e8fc1",
   "metadata": {},
   "outputs": [],
   "source": [
    "df # 그 중에 fixmajor로 택한 전공수업+교양들만 남긴 목록"
   ]
  },
  {
   "cell_type": "code",
   "execution_count": null,
   "id": "29add34f-cc65-4ea5-bbe9-7623c3f30527",
   "metadata": {},
   "outputs": [],
   "source": [
    "ttbl # 시간표"
   ]
  },
  {
   "cell_type": "code",
   "execution_count": null,
   "id": "f08ddccd-f7b8-4d92-b5c8-ae2f63e95c8c",
   "metadata": {},
   "outputs": [],
   "source": [
    "costmin # 도보이동시간 행렬"
   ]
  },
  {
   "cell_type": "markdown",
   "id": "9b4f3b6d-d00d-4381-9271-8e8b0a0ef4c5",
   "metadata": {},
   "source": [
    "## 실행하기\n",
    "> 여기부터는 위의 함수들을 통해 시간표에 값을 채워넣고, 추가 가능한 시간표들의 목록을 알아보고, 인덱스를 과목명으로 변환합니다.<br>모든 함수를 아실 필요는 없습니다. 아래에 있는 함수만 이해하셔도 쓰는데 지장 없습니다."
   ]
  },
  {
   "cell_type": "code",
   "execution_count": null,
   "id": "ddf0df4a-3bc3-4858-b654-92b29cbe8ec7",
   "metadata": {},
   "outputs": [],
   "source": [
    "# 특정 과목을 검색합니다\n",
    "search(df, '현대대수학1')"
   ]
  },
  {
   "cell_type": "code",
   "execution_count": null,
   "id": "f0704bdd-9176-4696-8284-a54e17b95a8e",
   "metadata": {},
   "outputs": [],
   "source": [
    "# df의 23번 과목을 ttbl에 넣습니다. 겹치는 과목이 있어도 그냥 단순히 채워넣습니다. 겹칠경우엔 겹치는 부분은 덮어씁니다. (이 경우 덮어써진 과목의 덮어써지지 않은 교시는 살아남아서 시간표 무결성이 깨질 수 있음.)\n",
    "insert(df, ttbl, 23)\n",
    "# ttbl 확인\n",
    "ttbl"
   ]
  },
  {
   "cell_type": "code",
   "execution_count": null,
   "id": "9e4d8f09-0242-43da-b837-9937084a04b6",
   "metadata": {},
   "outputs": [],
   "source": [
    "# insert와는 다르게 겹치는지, 이동하는데 걸리는 시간이 10분 이하인지 체크하고 집어넣습니다.\n",
    "checkandinsert(df, ttbl, costmin, 34)\n",
    "# ttbl 확인\n",
    "ttbl"
   ]
  },
  {
   "cell_type": "code",
   "execution_count": null,
   "id": "f2d1ad63-4a50-40d3-a885-5b8a956f16d8",
   "metadata": {},
   "outputs": [],
   "source": [
    "totalcostmin(df,ttbl,costmin)"
   ]
  },
  {
   "cell_type": "code",
   "execution_count": null,
   "id": "40fca0ea-a930-41aa-a492-990cffb16b64",
   "metadata": {},
   "outputs": [],
   "source": [
    "# 좀 더 시간표 답게 보고싶으면 beautifulttbl을 씁니다.\n",
    "beautifulttbl(df, ttbl)"
   ]
  },
  {
   "cell_type": "code",
   "execution_count": null,
   "id": "8397b5ee-a8c4-4366-8bf9-1d7ac67f8653",
   "metadata": {},
   "outputs": [],
   "source": [
    "# 유연하게 조정되는 사이즈를 원하신다면 sizefix 옵션을 Flase로 주십시오.\n",
    "beautifulttbl(df, ttbl, sizefix = False)"
   ]
  },
  {
   "cell_type": "code",
   "execution_count": null,
   "id": "0189c50d-d714-4500-8526-b4651455e074",
   "metadata": {},
   "outputs": [],
   "source": [
    "# df에서 23번 강의 정보를 불러옵니다.\n",
    "getinfo(df,23)"
   ]
  },
  {
   "cell_type": "code",
   "execution_count": null,
   "id": "f4ce6d20-d37b-4ce6-8c6f-47d6b59f8ab6",
   "metadata": {},
   "outputs": [],
   "source": [
    "# 만약 강의가 월요일에도 하고 수요일에도 하면...\n",
    "getinfo(df, 34)"
   ]
  },
  {
   "cell_type": "code",
   "execution_count": null,
   "id": "c8c93ad0-636b-402c-a794-c1243752a7a5",
   "metadata": {},
   "outputs": [],
   "source": [
    "# [0]을 붙이면 첫번째를, [1]을 붙이면 두번째를 반환합니다. 이렇게 []를 제거해야 sortout으로 정보들을 분류해낼 수 있습니다.\n",
    "getinfo(df,34)[0]"
   ]
  },
  {
   "cell_type": "code",
   "execution_count": null,
   "id": "d7d316e7-8e03-4b38-a9fb-dec1b1a78876",
   "metadata": {},
   "outputs": [],
   "source": [
    "# sortout을 통해 요일, 교시, 동, 호를 분리합니다\n",
    "sortout(getinfo(df,34)[0])"
   ]
  },
  {
   "cell_type": "code",
   "execution_count": null,
   "id": "4f0b9631-2136-4036-b30c-eb2955d2e2a9",
   "metadata": {},
   "outputs": [],
   "source": [
    "# 역시 ['요일'] 등을 붙여 값을 분리해낼 수 있습니다.\n",
    "sortout(getinfo(df,34)[0])['동']"
   ]
  },
  {
   "cell_type": "code",
   "execution_count": null,
   "id": "b6f39278-4b6c-4525-8974-4cd33fbe432a",
   "metadata": {},
   "outputs": [],
   "source": [
    "# 시간표 초기화\n",
    "reset_ttbl(ttbl)\n",
    "\n",
    "ttbl"
   ]
  },
  {
   "cell_type": "code",
   "execution_count": null,
   "id": "31813d07-4065-48f6-b607-3079f3e97df7",
   "metadata": {},
   "outputs": [],
   "source": [
    "for i in range(200):\n",
    "    checkandinsert(df,ttbl,costmin,i)\n",
    "ttbl"
   ]
  },
  {
   "cell_type": "code",
   "execution_count": null,
   "id": "91ddec47-3924-40ab-900a-788e42211b34",
   "metadata": {
    "scrolled": true
   },
   "outputs": [],
   "source": [
    "# caninsert로 현재의 ttbl에 추가 가능한(시간표가 겹치지 않고 10분 내의 거리인) 과목들의 목록을 반환합니다.\n",
    "caninsert(df, ttbl, costmin)"
   ]
  },
  {
   "cell_type": "code",
   "execution_count": null,
   "id": "4d2a0740-9125-472c-b348-9af34e06440b",
   "metadata": {},
   "outputs": [],
   "source": [
    "# possiblettbl으로 현재의 ttbl에서 가능한 시간표들의 목록을 반환합니다. (가능한 시간표의 과목들의 리스트를 원소로 갖는 목록이 반환되고, 그 리스트의 항목들을 ttbl에 insert하면 시간표가 됩니다.)\n",
    "possiblettbl(df, ttbl, costmin)\n",
    "# 조합적 폭발탓에 오래걸릴 수 있습니다. 중단하려면 esc 후 i를 두번 누르세요."
   ]
  }
 ],
 "metadata": {
  "kernelspec": {
   "display_name": "Python 3 (ipykernel)",
   "language": "python",
   "name": "python3"
  },
  "language_info": {
   "codemirror_mode": {
    "name": "ipython",
    "version": 3
   },
   "file_extension": ".py",
   "mimetype": "text/x-python",
   "name": "python",
   "nbconvert_exporter": "python",
   "pygments_lexer": "ipython3",
   "version": "3.12.3"
  }
 },
 "nbformat": 4,
 "nbformat_minor": 5
}
